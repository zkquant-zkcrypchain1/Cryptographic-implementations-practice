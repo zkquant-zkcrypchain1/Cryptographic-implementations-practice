{
 "cells": [
  {
   "cell_type": "code",
   "execution_count": null,
   "metadata": {},
   "outputs": [
    {
     "name": "stdout",
     "output_type": "stream",
     "text": [
      "Requirement already satisfied: pycryptodome in c:\\users\\agnivo\\anaconda3\\lib\\site-packages (3.20.0)\n"
     ]
    }
   ],
   "source": [
    "!pip install pycryptodome"
   ]
  },
  {
   "cell_type": "markdown",
   "metadata": {},
   "source": [
    "*F1*\n",
    "\n",
    "\n",
    "Hexadecimal can be used in such a way to represent ASCII strings. First each letter is converted to an ordinal number according to the ASCII table (as in the previous challenge). Then the decimal numbers are converted to base-16 numbers, otherwise known as hexadecimal. The numbers can be combined together, into one long hex string.\n",
    "\n",
    "Included below is a flag encoded as a hex string. Decode this back into bytes to get the flag.\n",
    "```\n",
    "\n",
    "63727970746f7b596f755f77696c6c5f62655f776f726b696e675f776974\n",
    "685f6865785f737472696e67735f615f6c6f747d\n",
    "```"
   ]
  },
  {
   "cell_type": "code",
   "execution_count": 1,
   "metadata": {},
   "outputs": [
    {
     "name": "stdout",
     "output_type": "stream",
     "text": [
      "crypto{You_will_be_working_with_hex_strings_a_lot}\n",
      "crypto{You_will_be_working_with_hex_strings_a_lot}\n"
     ]
    }
   ],
   "source": [
    "# The hex string\n",
    "hex_string = \"63727970746f7b596f755f77696c6c5f62655f776f726b696e675f776974685f6865785f737472696e67735f615f6c6f747d\"\n",
    "\n",
    "# Method 1: Using bytes.fromhex()\n",
    "decoded = bytes.fromhex(hex_string).decode('ascii')\n",
    "print(decoded)\n",
    "\n",
    "# Method 2: Alternative way using int() and chr()\n",
    "decoded2 = \"\"\n",
    "for i in range(0, len(hex_string), 2):\n",
    "    hex_pair = hex_string[i:i+2]\n",
    "    decimal = int(hex_pair, 16)\n",
    "    decoded2 += chr(decimal)\n",
    "print(decoded2)\n"
   ]
  },
  {
   "cell_type": "markdown",
   "metadata": {},
   "source": [
    "_______________________________________________________________________________________\n",
    "\n",
    "*F2*\n",
    "\n",
    "\n",
    "Another common encoding scheme is Base64, which allows us to represent binary data as an ASCII string using an alphabet of 64 characters. One character of a Base64 string encodes 6 binary digits (bits), and so 4 characters of Base64 encode three 8-bit bytes.\n",
    "\n",
    "Base64 is most commonly used online, so binary data such as images can be easily included into HTML or CSS files.\n",
    "\n",
    "Take the below hex string, decode it into bytes and then encode it into Base64.\n",
    "\n",
    "```\n",
    "72bca9b68fc16ac7beeb8f849dca\n",
    "1d8a783e8acf9679bf9269f7bf\n",
    "```\n",
    "\n",
    " In Python, after importing the base64 module with import base64, you can use the base64.b64encode() function. Remember to decode the hex first as the challenge description states."
   ]
  },
  {
   "cell_type": "code",
   "execution_count": 2,
   "metadata": {},
   "outputs": [
    {
     "name": "stdout",
     "output_type": "stream",
     "text": [
      "crypto/Base+64+Encoding+is+Web+Safe/\n"
     ]
    }
   ],
   "source": [
    "import base64\n",
    "\n",
    "# The hex string\n",
    "hex_string = \"72bca9b68fc16ac7beeb8f849dca1d8a783e8acf9679bf9269f7bf\"\n",
    "\n",
    "# Step 1: Convert hex to bytes\n",
    "bytes_data = bytes.fromhex(hex_string)\n",
    "\n",
    "# Step 2: Encode bytes to Base64\n",
    "base64_encoded = base64.b64encode(bytes_data).decode()\n",
    "\n",
    "print(base64_encoded)\n"
   ]
  },
  {
   "cell_type": "markdown",
   "metadata": {},
   "source": [
    "_________________________________________________\n",
    "*F3*\n",
    "\n",
    "Cryptosystems like RSA works on numbers, but messages are made up of characters. How should we convert our messages into numbers so that mathematical operations can be applied?\n",
    "\n",
    "The most common way is to take the ordinal bytes of the message, convert them into hexadecimal, and concatenate. This can be interpreted as a base-16/hexadecimal number, and also represented in base-10/decimal.\n",
    "\n",
    "To illustrate:\n",
    "\n",
    "message: HELLO\n",
    "ascii bytes: [72, 69, 76, 76, 79]\n",
    "\n",
    "hex bytes: [0x48, 0x45, 0x4c, 0x4c, 0x4f]\n",
    "\n",
    "base-16: 0x48454c4c4f\n",
    "\n",
    "base-10: 310400273487\n",
    "\n",
    " Python's PyCryptodome library implements this with the methods bytes_to_long() and long_to_bytes(). You will first have to install PyCryptodome and import it with from Crypto.Util.number import \n",
    "\n",
    "\n",
    "Convert the following integer back into a message:\n",
    "```\n",
    "11515195063862318899931685488813747\n",
    "39577551628728968263649996528271463\n",
    "7259206269\n",
    "```"
   ]
  },
  {
   "cell_type": "code",
   "execution_count": 3,
   "metadata": {},
   "outputs": [
    {
     "name": "stdout",
     "output_type": "stream",
     "text": [
      "ASCII bytes: [72, 69, 76, 76, 79]\n",
      "Hex bytes: ['0x48', '0x45', '0x4c', '0x4c', '0x4f']\n",
      "Base-16: 0x48454c4c4f\n",
      "Base-10: 310400273487\n",
      "Back to text: HELLO\n"
     ]
    }
   ],
   "source": [
    "# Original message\n",
    "message = \"HELLO\"\n",
    "\n",
    "# Convert to ASCII bytes\n",
    "ascii_bytes = [ord(c) for c in message]\n",
    "print(f\"ASCII bytes: {ascii_bytes}\")\n",
    "\n",
    "# Convert to hex bytes\n",
    "hex_bytes = [hex(ord(c)) for c in message]\n",
    "print(f\"Hex bytes: {hex_bytes}\")\n",
    "\n",
    "# Create base-16 (hex) representation by concatenating\n",
    "hex_string = \"0x\" + \"\".join([hex(ord(c))[2:] for c in message])\n",
    "print(f\"Base-16: {hex_string}\")\n",
    "\n",
    "# Convert to base-10 (decimal)\n",
    "decimal = int(hex_string, 16)\n",
    "print(f\"Base-10: {decimal}\")\n",
    "\n",
    "# To convert back from decimal to text:\n",
    "def decimal_to_text(decimal_num):\n",
    "    hex_str = hex(decimal_num)[2:]  # Remove '0x' prefix\n",
    "    # Ensure even length\n",
    "    if len(hex_str) % 2 != 0:\n",
    "        hex_str = '0' + hex_str\n",
    "    # Convert back to bytes and then to string\n",
    "    return bytes.fromhex(hex_str).decode('ascii')\n",
    "\n",
    "# Test the conversion back\n",
    "original = decimal_to_text(decimal)\n",
    "print(f\"Back to text: {original}\")\n"
   ]
  },
  {
   "cell_type": "code",
   "execution_count": 5,
   "metadata": {},
   "outputs": [
    {
     "name": "stdout",
     "output_type": "stream",
     "text": [
      "Using PyCryptodome bytes_to_long(): 310400273487\n",
      "Recovered message: HELLO\n"
     ]
    }
   ],
   "source": [
    "from Crypto.Util.number import bytes_to_long, long_to_bytes\n",
    "\n",
    "# Original message\n",
    "message = \"HELLO\"\n",
    "\n",
    "# Method 1: Using PyCryptodome (easiest way)\n",
    "message_bytes = message.encode('ascii')\n",
    "number = bytes_to_long(message_bytes)\n",
    "print(f\"Using PyCryptodome bytes_to_long(): {number}\")\n",
    "\n",
    "# Converting back to text\n",
    "recovered = long_to_bytes(number).decode('ascii')\n",
    "print(f\"Recovered message: {recovered}\")\n",
    "\n"
   ]
  },
  {
   "cell_type": "code",
   "execution_count": 7,
   "metadata": {},
   "outputs": [
    {
     "name": "stdout",
     "output_type": "stream",
     "text": [
      "Using PyCryptodome: crypto{3nc0d1n6_4ll_7h3_w4y_d0wn}\n",
      "Using manual conversion: crypto{3nc0d1n6_4ll_7h3_w4y_d0wn}\n"
     ]
    }
   ],
   "source": [
    "from Crypto.Util.number import long_to_bytes\n",
    "\n",
    "# The given number\n",
    "number = 11515195063862318899931685488813747395775516287289682636499965282714637259206269\n",
    "\n",
    "# Method 1: Using PyCryptodome (easier way)\n",
    "message = long_to_bytes(number).decode()\n",
    "print(f\"Using PyCryptodome: {message}\")\n",
    "\n",
    "# Method 2: Manual conversion\n",
    "def decimal_to_text(decimal_num):\n",
    "    # Convert decimal to hex, remove '0x' prefix\n",
    "    hex_str = hex(decimal_num)[2:]\n",
    "    # Ensure even length\n",
    "    if len(hex_str) % 2 != 0:\n",
    "        hex_str = '0' + hex_str\n",
    "    # Convert hex to bytes and then to string\n",
    "    return bytes.fromhex(hex_str).decode('ascii')\n",
    "\n",
    "manual_message = decimal_to_text(number)\n",
    "print(f\"Using manual conversion: {manual_message}\")\n"
   ]
  },
  {
   "cell_type": "markdown",
   "metadata": {},
   "source": [
    "___________________________________________________________________\n",
    "*F4*\n",
    "\n",
    "\n",
    "\n",
    "XOR is a bitwise operator which returns 0 if the bits are the same, and 1 otherwise. In textbooks the XOR operator is denoted by $\\oplus$, but in most challenges and programming languages you will see the caret used instead.\n",
    "\n",
    "A\tB\tA $\\oplus$ B\n",
    "\n",
    "0\t0\t0\n",
    "\n",
    "0\t1\t1\n",
    "\n",
    "1\t0\t1\n",
    "\n",
    "1\t1\t0\n",
    "\n",
    "For longer binary numbers we XOR bit by bit: $0110 \\oplus 1010 = 1100$. We can XOR integers by first converting the integer from decimal to binary. We can XOR strings by first converting each character to the integer representing the Unicode character.\n",
    "\n",
    "Given the string label, XOR each character with the integer 13. Convert these integers back to a string and submit the flag as crypto\\{new\\_string\\}.\n",
    "\n",
    "The Python pwntools library has a convenient xor() function that can XOR together data of different types and lengths. But first, you may want to implement your own function to solve this."
   ]
  },
  {
   "cell_type": "code",
   "execution_count": 9,
   "metadata": {},
   "outputs": [
    {
     "name": "stdout",
     "output_type": "stream",
     "text": [
      "Original text: label\n",
      "XORed with 13: aloha\n",
      "Flag: crypto{aloha}\n",
      "XORing result again with 13: label\n"
     ]
    }
   ],
   "source": [
    "def xor_with_key(text, key):\n",
    "    \"\"\"\n",
    "    XOR each character in text with the given key value\n",
    "    Args:\n",
    "        text (str): Input text to XOR\n",
    "        key (int): Integer key to XOR with\n",
    "    Returns:\n",
    "        str: XORed result\n",
    "    \"\"\"\n",
    "    return ''.join(chr(ord(c) ^ key) for c in text)\n",
    "\n",
    "def make_flag(text):\n",
    "    return f\"crypto{{{text}}}\"\n",
    "\n",
    "# Solve the original problem (label XOR 13)\n",
    "original_text = \"label\"\n",
    "key = 13\n",
    "\n",
    "result = xor_with_key(original_text, key)\n",
    "flag = make_flag(result)\n",
    "\n",
    "print(f\"Original text: {original_text}\")\n",
    "print(f\"XORed with {key}: {result}\")\n",
    "print(f\"Flag: {flag}\")\n",
    "\n",
    "\n",
    "\n",
    "# Verify reversibility\n",
    "reversed_text = xor_with_key(result, key)\n",
    "print(f\"XORing result again with {key}: {reversed_text}\")\n"
   ]
  },
  {
   "cell_type": "code",
   "execution_count": 10,
   "metadata": {},
   "outputs": [
    {
     "name": "stdout",
     "output_type": "stream",
     "text": [
      "\n",
      "Step by step process:\n",
      "Character: l\n",
      "ASCII value: 108\n",
      "XORed with 13: 97\n",
      "New character: a\n",
      "\n",
      "Character: a\n",
      "ASCII value: 97\n",
      "XORed with 13: 108\n",
      "New character: l\n",
      "\n",
      "Character: b\n",
      "ASCII value: 98\n",
      "XORed with 13: 111\n",
      "New character: o\n",
      "\n",
      "Character: e\n",
      "ASCII value: 101\n",
      "XORed with 13: 104\n",
      "New character: h\n",
      "\n",
      "Character: l\n",
      "ASCII value: 108\n",
      "XORed with 13: 97\n",
      "New character: a\n",
      "\n"
     ]
    }
   ],
   "source": [
    "# Demonstrate the process\n",
    "print(\"\\nStep by step process:\")\n",
    "for char in original_text:\n",
    "    original_num = ord(char)\n",
    "    xored = original_num ^ key\n",
    "    new_char = chr(xored)\n",
    "    print(f\"Character: {char}\")\n",
    "    print(f\"ASCII value: {original_num}\")\n",
    "    print(f\"XORed with {key}: {xored}\")\n",
    "    print(f\"New character: {new_char}\")\n",
    "    print()"
   ]
  },
  {
   "cell_type": "code",
   "execution_count": 18,
   "metadata": {},
   "outputs": [
    {
     "name": "stdout",
     "output_type": "stream",
     "text": [
      "crypto{aloha}\n"
     ]
    }
   ],
   "source": [
    "# Install pwntools using pip\n",
    "#!pip install pwntools;\n",
    "\n",
    "from pwn import *\n",
    "\n",
    "text = \"label\"\n",
    "result = xor(text, 13)\n",
    "flag = f\"crypto{{{result.decode()}}}\"\n",
    "print(flag)\n"
   ]
  },
  {
   "cell_type": "markdown",
   "metadata": {},
   "source": [
    "___________________________________________________________________\n",
    "*F5*\n",
    "\n",
    "\n",
    "\n",
    "In the last challenge, you saw how XOR worked at the level of bits. In this one, we're going to cover the properties of the XOR operation and then use them to undo a chain of operations that have encrypted a flag. Gaining an intuition for how this works will help greatly when you come to attacking real cryptosystems later, especially in the block ciphers category.\n",
    "\n",
    "There are four main properties we should consider when we solve challenges using the XOR operator\n",
    "\n",
    "Commutative: $A \\oplus B = B \\oplus A$\n",
    "Associative: $A \\oplus (B \\oplus C) = (A \\oplus B) \\oplus C$\n",
    "Identity: $A \\oplus 0 = A$\n",
    "Self-Inverse: $A \\oplus A = 0$\n",
    "\n",
    "Let's break this down. Commutative means that the order of the XOR operations is not important. Associative means that a chain of operations can be carried out without order (we do not need to worry about brackets). The identity is 0, so XOR with 0 \"does nothing\", and lastly something XOR'd with itself returns zero.\n",
    "\n",
    "Let's put this into practice! Below is a series of outputs where three random keys have been XOR'd together and with the flag. Use the above properties to undo the encryption in the final line to obtain the flag.\n",
    "\n",
    "```\n",
    "KEY1 = a6c8b6733c9b22de7bc0253266a3867df55acde8635e19c73313\n",
    "KEY2 ^ KEY1 = 37dcb292030faa90d07eec17e3b1c6d8daf94c35d4c9191a5e1e\n",
    "KEY2 ^ KEY3 = c1545756687e7573db23aa1c3452a098b71a7fbf0fddddde5fc1\n",
    "FLAG ^ KEY1 ^ KEY3 ^ KEY2 = 04ee9855208a2cd59091d04767ae47963170d1660df7f56f5faf\n",
    "```\n",
    "\n",
    "Before you XOR these objects, be sure to decode from hex to bytes."
   ]
  },
  {
   "cell_type": "code",
   "execution_count": 23,
   "metadata": {},
   "outputs": [
    {
     "name": "stdout",
     "output_type": "stream",
     "text": [
      "crypto{x0r_i5_ass0c1at1v3}\n"
     ]
    }
   ],
   "source": [
    "from Crypto.Util.number import *\n",
    "\n",
    "\n",
    "# Convert hex strings to integers\n",
    "KEY1 = int('a6c8b6733c9b22de7bc0253266a3867df55acde8635e19c73313', 16)\n",
    "KEY2_XOR_KEY1 = int('37dcb292030faa90d07eec17e3b1c6d8daf94c35d4c9191a5e1e', 16)\n",
    "KEY2_XOR_KEY3 = int('c1545756687e7573db23aa1c3452a098b71a7fbf0fddddde5fc1', 16)\n",
    "FLAG_XOR_ALL = int('04ee9855208a2cd59091d04767ae47963170d1660df7f56f5faf', 16)\n",
    "\n",
    "# Using the properties:\n",
    "# 1. From KEY2 ^ KEY1 we can get KEY2 by XORing both sides with KEY1\n",
    "# 2. From KEY2 ^ KEY3 we can get KEY3 by XORing with KEY2\n",
    "# 3. Then we can solve for FLAG\n",
    "\n",
    "# Get KEY2 using KEY2 ^ KEY1\n",
    "KEY2 = KEY2_XOR_KEY1 ^ KEY1  \n",
    "\n",
    "# Get KEY3 using KEY2 ^ KEY3\n",
    "KEY3 = KEY2_XOR_KEY3 ^ KEY2\n",
    "\n",
    "# The encrypted flag is FLAG ^ KEY1 ^ KEY3 ^ KEY2\n",
    "# To get FLAG, XOR with the same keys again\n",
    "FLAG = FLAG_XOR_ALL ^ KEY1 ^ KEY3 ^ KEY2\n",
    "\n",
    "# Convert the result back to bytes and decode\n",
    "flag = long_to_bytes(FLAG)\n",
    "print(flag.decode())\n"
   ]
  },
  {
   "cell_type": "code",
   "execution_count": 26,
   "metadata": {},
   "outputs": [
    {
     "name": "stdout",
     "output_type": "stream",
     "text": [
      "b'crypto{x0r_i5_ass0c1at1v3}'\n"
     ]
    }
   ],
   "source": [
    "from pwn import xor\n",
    "k1=bytes.fromhex('a6c8b6733c9b22de7bc0253266a3867df55acde8635e19c73313')\n",
    "k2_3=bytes.fromhex('c1545756687e7573db23aa1c3452a098b71a7fbf0fddddde5fc1')\n",
    "flag=bytes.fromhex('04ee9855208a2cd59091d04767ae47963170d1660df7f56f5faf')\n",
    "print(xor(k1,k2_3,flag)) "
   ]
  },
  {
   "cell_type": "markdown",
   "metadata": {},
   "source": [
    "_______________________________________________________________\n",
    "\n",
    "*F6*\n",
    "\n",
    "I've hidden some data using XOR with a single byte, but that byte is a secret. Don't forget to decode from hex first.\n",
    "```\n",
    "73626960647f6b206821204f\n",
    "21254f7d694f762466206562\n",
    "2127234f726927756d\n",
    "```"
   ]
  },
  {
   "cell_type": "code",
   "execution_count": 27,
   "metadata": {},
   "outputs": [
    {
     "name": "stdout",
     "output_type": "stream",
     "text": [
      "Key 1: rchae~j!i !N $N|hNw%g!dc &\"Nsh&tl\n",
      "Key 3: pajcg|h#k\"#L\"&L~jLu'e#fa\"$ Lqj$vn\n",
      "Key 4: wfmd`{o$l%$K%!KymKr b$af%#'Kvm#qi\n",
      "Key 5: vgleazn%m$%J$ JxlJs!c%`g$\"&Jwl\"ph\n",
      "Key 6: udofbym&n'&I'#I{oIp\"`&cd'!%Ito!sk\n",
      "Key 7: tengcxl'o&'H&\"HznHq#a'be& $Hun rj\n",
      "Key 8: {jahlwc(`)(G)-GuaG~,n(mj)/+Gza/}e\n",
      "Key 11: xibkot`+c*+D*.DvbD}/m+ni*,(Dyb,~f\n",
      "Key 14: }lgnjqe.f/.A/+AsgAx*h.kl/)-A|g){c\n",
      "Key 15: |mfokpd/g./@.*@rf@y+i/jm.(,@}f(zb\n",
      "Key 16: crypto{0x10_15_my_f4v0ur173_by7e}\n",
      "Key 17: bsxqunz1y01^04^lx^g5w1ts062^cx6d|\n",
      "Key 19: `qzswlx3{23\\26\\nz\\e7u3vq240\\az4f~\n",
      "Key 21: fw|uqj~5}45Z40Zh|Zc1s5pw426Zg|2`x\n",
      "Key 24: kzqx|gs8p98W9=WeqWn<~8}z9?;Wjq?mu\n",
      "Key 28: o~u|xcw<t=<S=9SauSj8z<y~=;?Snu;iq\n",
      "Key 30: m|w~zau>v?>Q?;QcwQh:x>{|?9=Qlw9ks\n"
     ]
    }
   ],
   "source": [
    "def try_single_byte_xor(hex_string):\n",
    "    # Convert hex to bytes\n",
    "    ciphertext = bytes.fromhex(hex_string)\n",
    "    \n",
    "    # Try every possible byte value (0-255)\n",
    "    for key in range(256):\n",
    "        # XOR each byte with the key\n",
    "        result = ''\n",
    "        valid = True\n",
    "        \n",
    "        # Create the decoded text\n",
    "        decoded = ''.join(chr(b ^ key) for b in ciphertext)\n",
    "        \n",
    "        # Check if the result contains printable ASCII\n",
    "        if all(32 <= ord(c) <= 126 for c in decoded):\n",
    "            print(f\"Key {key}: {decoded}\")\n",
    "\n",
    "# The encrypted hex string\n",
    "hex_string = \"73626960647f6b206821204f21254f7d694f7624662065622127234f726927756d\"\n",
    "\n",
    "try_single_byte_xor(hex_string)\n"
   ]
  },
  {
   "cell_type": "markdown",
   "metadata": {},
   "source": [
    "```\n",
    "Key 16: crypto{0x10_15_my_f4v0ur173_by7e} is the answer\n",
    "```"
   ]
  },
  {
   "cell_type": "code",
   "execution_count": 29,
   "metadata": {},
   "outputs": [
    {
     "name": "stdout",
     "output_type": "stream",
     "text": [
      "Found flag: crypto{0x10_15_my_f4v0ur173_by7e}\n"
     ]
    }
   ],
   "source": [
    "from pwn import xor\n",
    "# Imports the xor function from the pwntools library, which makes XOR operations easy\n",
    "\n",
    "cipher = bytes.fromhex(\"73626960647f6b206821204f21254f7d694f7624662065622127234f726927756d\")\n",
    "# 1. Takes the hex string (the encrypted message)\n",
    "# 2. bytes.fromhex() converts the hex string into bytes for processing\n",
    "# For example: '73' becomes the byte value 0x73\n",
    "\n",
    "for i in range(256):\n",
    "    # Tries every possible single byte value (0-255)\n",
    "    # Since a byte can be any value from 0 to 255, we try each one\n",
    "    \n",
    "    result = xor(cipher, i).decode()\n",
    "    # 1. xor(cipher, i) - XORs each byte of the cipher with the value i\n",
    "    # 2. .decode() - converts the resulting bytes back to a readable string\n",
    "    \n",
    "    if result.startswith('crypto{'):\n",
    "        # Checks if the decoded result starts with 'crypto{'\n",
    "        # This is how we know we found the correct key\n",
    "        \n",
    "        print(f\"Found flag: {result}\")\n",
    "        # Prints the flag when found\n",
    "        \n",
    "        break\n",
    "        # Exits the loop once we find the correct result\n",
    "\n"
   ]
  },
  {
   "cell_type": "markdown",
   "metadata": {},
   "source": [
    "________________________________________________________________________________\n",
    "*F7*\n",
    "\n",
    "\n",
    "I've encrypted the flag with my secret key, you'll never be able to guess it.\n",
    "\n",
    "Remember the flag format and how it might help you in this challenge!\n",
    "\n",
    "```\n",
    "0e0b213f26041e48\n",
    "0b26217f27342e175\n",
    "d0e070a3c5b103e25\n",
    "26217f27342e175d0e\n",
    "077e263451150104\n",
    "```"
   ]
  },
  {
   "cell_type": "code",
   "execution_count": 34,
   "metadata": {},
   "outputs": [
    {
     "name": "stdout",
     "output_type": "stream",
     "text": [
      "Key found: myXORke\n"
     ]
    }
   ],
   "source": [
    "from pwn import xor\n",
    "\n",
    "# Convert hex to bytes\n",
    "cipher = bytes.fromhex('0e0b213f26041e480b26217f27342e175d0e070a3c5b103e2526217f27342e175d0e077e263451150104')\n",
    "\n",
    "# Known start of the flag\n",
    "known = b'crypto{'\n",
    "\n",
    "# Find the key by XORing the first 7 bytes with 'crypto{'\n",
    "key = xor(cipher[:7], known)\n",
    "print(f\"Key found: {key.decode()}\")\n",
    "\n",
    "# Try extending the key (it's probably repeating)\n",
    "key = key.decode()\n",
    "while len(key) < len(cipher):\n",
    "    key += key\n",
    "\n"
   ]
  },
  {
   "cell_type": "code",
   "execution_count": 31,
   "metadata": {},
   "outputs": [
    {
     "name": "stdout",
     "output_type": "stream",
     "text": [
      "Flag: crypto{1f_y0u_Kn0w_En0uGH_y0u_Kn0w_1t_4ll}VDsTC}\n"
     ]
    }
   ],
   "source": [
    "from pwn import xor\n",
    "\n",
    "cipher = bytes.fromhex('0e0b213f26041e480b26217f27342e175d0e070a3c5b103e2526217f27342e175d0e077e263451150104')\n",
    "key = b'myXORkey'  # We already know the key\n",
    "flag = xor(cipher, key * (len(cipher)//len(key) + 1))\n",
    "print(f\"Flag: {flag.decode()}\")\n"
   ]
  },
  {
   "cell_type": "markdown",
   "metadata": {},
   "source": [
    "____________________________________________________________________________________________\n",
    "*F8*\n",
    "\n",
    "calculate \n",
    "gcd\n",
    "⁡\n",
    "(\n",
    "a\n",
    ",\n",
    "b\n",
    ")\n",
    "gcd(a,b) for \n",
    "a=66528,\n",
    "b=52920\n",
    "and enter it below.\n"
   ]
  },
  {
   "cell_type": "code",
   "execution_count": 36,
   "metadata": {},
   "outputs": [
    {
     "name": "stdout",
     "output_type": "stream",
     "text": [
      "GCD of 12 and 8 is: 4\n",
      "GCD of 66528 and 52920 is: 1512\n"
     ]
    }
   ],
   "source": [
    "def gcd(a, b):\n",
    "    while b:\n",
    "        a, b = b, a % b\n",
    "    return a\n",
    "\n",
    "\n",
    "# Calculate the actual challenge\n",
    "a = 66528\n",
    "b = 52920\n",
    "result = gcd(a, b)\n",
    "print(f\"GCD of {a} and {b} is: {result}\")"
   ]
  },
  {
   "cell_type": "markdown",
   "metadata": {},
   "source": [
    "___________________________________________________________\n",
    "\n",
    "*F9*"
   ]
  },
  {
   "cell_type": "code",
   "execution_count": 38,
   "metadata": {},
   "outputs": [
    {
     "name": "stdout",
     "output_type": "stream",
     "text": [
      "GCD: 1\n",
      "u: 10245\n",
      "v: -8404\n",
      "Verification: 1\n",
      "Flag is the lower of u (10245) and v (-8404)\n"
     ]
    }
   ],
   "source": [
    "def extended_gcd(a, b):\n",
    "    if a == 0:\n",
    "        return b, 0, 1\n",
    "    else:\n",
    "        gcd, x, y = extended_gcd(b % a, a)\n",
    "        return gcd, y - (b//a) * x, x\n",
    "\n",
    "# The primes\n",
    "p = 26513\n",
    "q = 32321\n",
    "\n",
    "# Calculate GCD and coefficients\n",
    "gcd, u, v = extended_gcd(p, q)\n",
    "\n",
    "print(f\"GCD: {gcd}\")\n",
    "print(f\"u: {u}\")\n",
    "print(f\"v: {v}\")\n",
    "print(f\"Verification: {p*u + q*v}\")  # Should equal GCD\n",
    "print(f\"Flag is the lower of u ({u}) and v ({v})\")\n"
   ]
  },
  {
   "cell_type": "markdown",
   "metadata": {},
   "source": [
    "_______________________________________________________\n",
    "*F10*\n",
    "\n",
    "\n",
    "$11 \\equiv x \\pmod{6}$\n",
    "\n",
    "$8146798528947 \\equiv y \\pmod{17}$\n",
    "\n",
    "The solution is the smaller of the two integers, \n",
    "(x,y) you obtained after reducing by the modulus."
   ]
  },
  {
   "cell_type": "code",
   "execution_count": 41,
   "metadata": {},
   "outputs": [
    {
     "name": "stdout",
     "output_type": "stream",
     "text": [
      "x = 5\n",
      "y = 4\n"
     ]
    }
   ],
   "source": [
    "# For x ≡ 11 (mod 6)\n",
    "x = 11 % 6\n",
    "\n",
    "# For y ≡ 8146798528947 (mod 17)\n",
    "y = 8146798528947 % 17\n",
    "\n",
    "print(f\"x = {x}\")\n",
    "print(f\"y = {y}\")\n",
    "\n"
   ]
  },
  {
   "cell_type": "markdown",
   "metadata": {},
   "source": [
    "______________________________________________________________________\n",
    "*F11*\n",
    "\n",
    "\n",
    "Let $p = 17$. Calculate $3^{17} \\pmod{17}$. Now do the same but with $5^{17} \\pmod{17}$.\n",
    "\n",
    "What would you expect to get for $7^{16} \\pmod{17}$? Try calculating that.\n",
    "\n",
    "This interesting fact is known as Fermat's little theorem. We'll be needing this (and its generalisations) when we look at RSA cryptography.\n",
    "\n",
    "Now take the prime $p = 65537$. Calculate $273246787654^{65536} \\pmod{65537}$."
   ]
  },
  {
   "cell_type": "code",
   "execution_count": 42,
   "metadata": {},
   "outputs": [
    {
     "name": "stdout",
     "output_type": "stream",
     "text": [
      "3^17 mod 17 = 3\n",
      "5^17 mod 17 = 5\n",
      "7^16 mod 17 = 1\n",
      "273246787654^65536 mod 65537 = 1\n"
     ]
    }
   ],
   "source": [
    "# First part with p = 17\n",
    "p = 17\n",
    "\n",
    "# Calculate 3^17 mod 17\n",
    "result1 = pow(3, 17, 17)\n",
    "print(f\"3^17 mod 17 = {result1}\")  # Should be 3\n",
    "\n",
    "# Calculate 5^17 mod 17\n",
    "result2 = pow(5, 17, 17)\n",
    "print(f\"5^17 mod 17 = {result2}\")  # Should be 5\n",
    "\n",
    "# Calculate 7^16 mod 17\n",
    "result3 = pow(7, 16, 17)\n",
    "print(f\"7^16 mod 17 = {result3}\")  # Should be 1\n",
    "\n",
    "# Final calculation with p = 65537\n",
    "p = 65537\n",
    "result4 = pow(273246787654, 65536, 65537)\n",
    "print(f\"273246787654^65536 mod 65537 = {result4}\")  # Should be 1\n"
   ]
  },
  {
   "cell_type": "code",
   "execution_count": 45,
   "metadata": {},
   "outputs": [
    {
     "name": "stdout",
     "output_type": "stream",
     "text": [
      "3 5 1 1\n"
     ]
    }
   ],
   "source": [
    "a=(3**17)%17\n",
    "b=(5**17)%17\n",
    "c=(7**16)%17\n",
    "d=(273246787654**65536)%65537\n",
    "print(a,b,c,d)"
   ]
  },
  {
   "cell_type": "code",
   "execution_count": 56,
   "metadata": {},
   "outputs": [
    {
     "name": "stdout",
     "output_type": "stream",
     "text": [
      "1\n"
     ]
    }
   ],
   "source": [
    "def is_prime(n):\n",
    "    return n > 1 and all(n % i != 0 for i in range(2, int(n**0.5) + 1))\n",
    "\n",
    "def check_fermat(base, exponent, p):\n",
    "    return 1 if is_prime(p) and base % p != 0 and exponent == p-1 else \"Conditions not met\"\n",
    "\n",
    "# Test\n",
    "print(check_fermat(273246787654, 65536, 65537))\n"
   ]
  },
  {
   "cell_type": "markdown",
   "metadata": {},
   "source": [
    "______________________________________________________________\n",
    "\n",
    "*F12*\n",
    "\n",
    "\n",
    "As we've seen, we can work within a finite field $\\mathbb{F}_p$, adding and multiplying elements, and always obtain another element of the field.\n",
    "\n",
    "For all elements $g$ in the field, there exists a unique integer $d$ such that $g \\cdot d \\equiv 1 \\pmod{p}$\n",
    "\n",
    "This is the multiplicative inverse of $g$\n",
    "\n",
    "Example: $7 \\cdot 8 = 56 \\equiv 1 \\pmod{11}$\n",
    "\n",
    "What is the inverse element: $d = 3^{-1}$ such that $ 3 \\cdot d \\equiv 1 \\pmod{13}$ ?\n"
   ]
  },
  {
   "cell_type": "code",
   "execution_count": 4,
   "metadata": {},
   "outputs": [
    {
     "name": "stdout",
     "output_type": "stream",
     "text": [
      "The multiplicative inverse of 3 modulo 13 is: 9\n",
      "Verification: (3 * 9) mod 13 = 1\n"
     ]
    }
   ],
   "source": [
    "def pow_mod(base, exponent, modulus):\n",
    "    result = 1\n",
    "    base = base % modulus\n",
    "    \n",
    "    while exponent > 0:\n",
    "        # If exponent is odd, multiply base with result\n",
    "        if exponent & 1:\n",
    "            result = (result * base) % modulus\n",
    "        # Exponent = exponent/2\n",
    "        exponent = exponent >> 1\n",
    "        # Base = base^2\n",
    "        base = (base * base) % modulus\n",
    "    \n",
    "    return result\n",
    "\n",
    "# Find 3^(-1) mod 13 using Fermat's Little Theorem\n",
    "base = 3\n",
    "prime = 13\n",
    "inverse = pow_mod(base, prime-2, prime)\n",
    "\n",
    "print(f\"The multiplicative inverse of {base} modulo {prime} is: {inverse}\")\n",
    "# Verify the result\n",
    "print(f\"Verification: ({base} * {inverse}) mod {prime} = {(base * inverse) % prime}\")\n"
   ]
  },
  {
   "cell_type": "markdown",
   "metadata": {},
   "source": [
    "___________________________________________________\n",
    "*F13*\n",
    "\n"
   ]
  },
  {
   "cell_type": "markdown",
   "metadata": {},
   "source": [
    "We've looked at multiplication and division in modular arithmetic, but what does it mean to take the square root modulo an integer?\n",
    "\n",
    "For the following discussion, let's work modulo $p = 29$. We can take the integer $a = 11$ and calculate $a^2 = 5 \\mod 29$.\n",
    "\n",
    "As $a = 11$, $a^2 = 5$, we say the square root of $5$ is $11$.\n",
    "\n",
    "This feels good, but now let's think about the square root of $18$. From the above, we know we need to find some integer $a$ such that $a^2 = 18$.\n",
    "\n",
    "Your first idea might be to start with $a = 1$ and loop to $a = p - 1$. In this discussion $p$ isn't too large and we can quickly check all options.\n",
    "\n",
    "Have a go, try coding this and see what you find. If you've coded it right, you'll find that for all $a \\in F_p^*$, you never find an $a$ such that $a^2 = 18$.\n",
    "\n",
    "What we are seeing, is that for the elements of $F_p^*$, not every element has a square root. In fact, what we find is that for roughly one half of the elements of $F_p^*$, there is no square root.\n",
    "\n",
    "We say that an integer $x$ is a Quadratic Residue if there exists an $a$ such that $a^2 \\equiv x \\mod p$. If there is no such solution, then the integer is a Quadratic Non-Residue.\n",
    "\n",
    "\n",
    "In other words, $x$ is a quadratic residue when it is possible to take the square root of $x$ modulo an integer $p$.\n",
    "\n",
    "In the below list there are two non-quadratic residues and one quadratic residue.\n",
    "\n",
    "Find the quadratic residue and then calculate its square root. Of the two possible roots, submit the smaller one as the flag.\n",
    "\n",
    "If $a^2 = x$ then $(-a)^2 = x$. So if $x$ is a quadratic residue in some finite field, then there are always two solutions for $a$.\n",
    "\n",
    "\n",
    "$p = 29$\n",
    "\n",
    "$integers = [14, 6, 11]$"
   ]
  },
  {
   "cell_type": "code",
   "execution_count": 6,
   "metadata": {},
   "outputs": [
    {
     "name": "stdout",
     "output_type": "stream",
     "text": [
      "Quadratic residues modulo 29: [0, 1, 4, 5, 6, 7, 9, 13, 16, 20, 22, 23, 24, 25, 28]\n",
      "\n",
      "14 is not a quadratic residue\n",
      "\n",
      "6 is a quadratic residue\n",
      "Its square roots are: [8, 21]\n",
      "\n",
      "11 is not a quadratic residue\n"
     ]
    }
   ],
   "source": [
    "def find_squares(p):\n",
    "    squares = set()\n",
    "    for i in range(p):\n",
    "        squares.add((i * i) % p)\n",
    "    return squares\n",
    "\n",
    "def find_roots(n, p):\n",
    "    roots = []\n",
    "    for i in range(p):\n",
    "        if (i * i) % p == n:\n",
    "            roots.append(i)\n",
    "    return roots\n",
    "\n",
    "p = 29\n",
    "ints = [14, 6, 11]\n",
    "\n",
    "# Find all quadratic residues modulo p\n",
    "squares = find_squares(p)\n",
    "\n",
    "print(f\"Quadratic residues modulo {p}: {sorted(squares)}\")\n",
    "\n",
    "# Check each number\n",
    "for x in ints:\n",
    "    if x in squares:\n",
    "        print(f\"\\n{x} is a quadratic residue\")\n",
    "        roots = find_roots(x, p)\n",
    "        print(f\"Its square roots are: {roots}\")\n",
    "    else:\n",
    "        print(f\"\\n{x} is not a quadratic residue\")\n"
   ]
  },
  {
   "cell_type": "markdown",
   "metadata": {},
   "source": [
    "```\n",
    "Note,$21 \\equiv -8$ essentially mod 29\n",
    "```"
   ]
  },
  {
   "cell_type": "markdown",
   "metadata": {},
   "source": [
    "________________________________________________________________________________________________\n",
    "\n",
    "*F14*\n",
    "We've looked at multiplication and division in modular arithmetic, but what does it mean to take the square root modulo an integer?\n",
    "\n",
    "In Quadratic Residues we learnt what it means to take the square root modulo an integer. We also saw that taking a root isn't always possible.\n",
    "\n",
    "In the previous case when $p = 29$, even the simplest method of calculating the square root was fast enough, but as $p$ gets larger, this method becomes wildly unreasonable.\n",
    "\n",
    "Lucky for us, we have a way to check whether an integer is a quadratic residue with a single calculation thanks to Legendre. In the following, we will assume we are working modulo a prime $p$.\n",
    "\n",
    "Before looking at Legendre's symbol, let's take a brief detour to see an interesting property of quadratic (non-)residues.\n",
    "\n",
    "Quadratic Residue * Quadratic Residue = Quadratic Residue\n",
    "Quadratic Residue * Quadratic Non-residue = Quadratic Non-residue\n",
    "Quadratic Non-residue * Quadratic Non-residue = Quadratic Residue\n",
    "\n",
    "Want an easy way to remember this? Replace \"Quadratic Residue\" with $+1$ and \"Quadratic Non-residue\" with $-1$, all three results are the same!\n",
    "\n",
    "\n",
    "So what's the trick? The Legendre Symbol gives an efficient way to determine whether an integer is a quadratic residue modulo an odd prime $p$.\n",
    "\n",
    "Legendre's Symbol: $\\left(\\frac{a}{p}\\right) \\equiv a^{(p-1)/2} \\mod p$ obeys:\n",
    "\n",
    "$\\left(\\frac{a}{p}\\right) = 1$ if $a$ is a quadratic residue and $a \\not\\equiv 0 \\mod p$\n",
    "$\\left(\\frac{a}{p}\\right) = -1$ if $a$ is a quadratic non-residue $\\mod p$\n",
    "$\\left(\\frac{a}{p}\\right) = 0$ if $a \\equiv 0 \\mod p$\n",
    "\n",
    "Which means given any integer $a$, calculating $a^{(p-1)/2} \\mod p$ is enough to determine if $a$ is a quadratic residue.\n",
    "\n",
    "Now for the flag. Given the following 1024 bit prime and 10 integers, find the quadratic residue and then calculate its square root; the square root is your flag. Of the two possible roots, submit the larger one as your answer.\n",
    "\n",
    "So Legendre's symbol tells us which integer is a quadratic residue, but how do we find the square root?! The prime supplied obeys $p \\equiv 3 \\mod 4$, which allows us easily compute the square root. The answer is online, but you can figure it out yourself if you think about Fermat's little theorem."
   ]
  },
  {
   "cell_type": "markdown",
   "metadata": {},
   "source": [
    "p = 101524035174539890485408575671085261788758965189060164484385690801466167356667036677932998889725476582421738788500738738503134356158197247473850273565349249573867251280253564698939768700489401960767007716413932851838937641880157263936985954881657889497583485535527613578457628399173971810541670838543309159139\n",
    "\n",
    "ints = [25081841204695904475894082974192007718642931811040324543182130088804239047149283334700530600468528298920930150221871666297194395061462592781551275161695411167049544771049769000895119729307495913024360169904315078028798025169985966732789207320203861858234048872508633514498384390497048416012928086480326832803, 45471765180330439060504647480621449634904192839383897212809808339619841633826534856109999027962620381874878086991125854247108359699799913776917227058286090426484548349388138935504299609200377899052716663351188664096302672712078508601311725863678223874157861163196340391008634419348573975841578359355931590555, 17364140182001694956465593533200623738590196990236340894554145562517924989208719245429557645254953527658049246737589538280332010533027062477684237933221198639948938784244510469138826808187365678322547992099715229218615475923754896960363138890331502811292427146595752813297603265829581292183917027983351121325, 14388109104985808487337749876058284426747816961971581447380608277949200244660381570568531129775053684256071819837294436069133592772543582735985855506250660938574234958754211349215293281645205354069970790155237033436065434572020652955666855773232074749487007626050323967496732359278657193580493324467258802863, 4379499308310772821004090447650785095356643590411706358119239166662089428685562719233435615196994728767593223519226235062647670077854687031681041462632566890129595506430188602238753450337691441293042716909901692570971955078924699306873191983953501093343423248482960643055943413031768521782634679536276233318, 85256449776780591202928235662805033201684571648990042997557084658000067050672130152734911919581661523957075992761662315262685030115255938352540032297113615687815976039390537716707854569980516690246592112936796917504034711418465442893323439490171095447109457355598873230115172636184525449905022174536414781771, 50576597458517451578431293746926099486388286246142012476814190030935689430726042810458344828563913001012415702876199708216875020997112089693759638454900092580746638631062117961876611545851157613835724635005253792316142379239047654392970415343694657580353333217547079551304961116837545648785312490665576832987, 96868738830341112368094632337476840272563704408573054404213766500407517251810212494515862176356916912627172280446141202661640191237336568731069327906100896178776245311689857997012187599140875912026589672629935267844696976980890380730867520071059572350667913710344648377601017758188404474812654737363275994871, 4881261656846638800623549662943393234361061827128610120046315649707078244180313661063004390750821317096754282796876479695558644108492317407662131441224257537276274962372021273583478509416358764706098471849536036184924640593888902859441388472856822541452041181244337124767666161645827145408781917658423571721, 18237936726367556664171427575475596460727369368246286138804284742124256700367133250078608537129877968287885457417957868580553371999414227484737603688992620953200143688061024092623556471053006464123205133894607923801371986027458274343737860395496260538663183193877539815179246700525865152165600985105257601565]"
   ]
  },
  {
   "cell_type": "code",
   "execution_count": 15,
   "metadata": {},
   "outputs": [
    {
     "name": "stdout",
     "output_type": "stream",
     "text": [
      "85256449776780591202928235662805033201684571648990042997557084658000067050672130152734911919581661523957075992761662315262685030115255938352540032297113615687815976039390537716707854569980516690246592112936796917504034711418465442893323439490171095447109457355598873230115172636184525449905022174536414781771\n"
     ]
    }
   ],
   "source": [
    "# Given prime p\n",
    "p = 101524035174539890485408575671085261788758965189060164484385690801466167356667036677932998889725476582421738788500738738503134356158197247473850273565349249573867251280253564698939768700489401960767007716413932851838937641880157263936985954881657889497583485535527613578457628399173971810541670838543309159139\n",
    "\n",
    "# Given integers\n",
    "ints = [\n",
    "    25081841204695904475894082974192007718642931811040324543182130088804239047149283334700530600468528298920930150221871666297194395061462592781551275161695411167049544771049769000895119729307495913024360169904315078028798025169985966732789207320203861858234048872508633514498384390497048416012928086480326832803,\n",
    "    45471765180330439060504647480621449634904192839383897212809808339619841633826534856109999027962620381874878086991125854247108359699799913776917227058286090426484548349388138935504299609200377899052716663351188664096302672712078508601311725863678223874157861163196340391008634419348573975841578359355931590555,\n",
    "    17364140182001694956465593533200623738590196990236340894554145562517924989208719245429557645254953527658049246737589538280332010533027062477684237933221198639948938784244510469138826808187365678322547992099715229218615475923754896960363138890331502811292427146595752813297603265829581292183917027983351121325,\n",
    "    14388109104985808487337749876058284426747816961971581447380608277949200244660381570568531129775053684256071819837294436069133592772543582735985855506250660938574234958754211349215293281645205354069970790155237033436065434572020652955666855773232074749487007626050323967496732359278657193580493324467258802863,\n",
    "    4379499308310772821004090447650785095356643590411706358119239166662089428685562719233435615196994728767593223519226235062647670077854687031681041462632566890129595506430188602238753450337691441293042716909901692570971955078924699306873191983953501093343423248482960643055943413031768521782634679536276233318,\n",
    "    85256449776780591202928235662805033201684571648990042997557084658000067050672130152734911919581661523957075992761662315262685030115255938352540032297113615687815976039390537716707854569980516690246592112936796917504034711418465442893323439490171095447109457355598873230115172636184525449905022174536414781771,\n",
    "    50576597458517451578431293746926099486388286246142012476814190030935689430726042810458344828563913001012415702876199708216875020997112089693759638454900092580746638631062117961876611545851157613835724635005253792316142379239047654392970415343694657580353333217547079551304961116837545648785312490665576832987,\n",
    "    96868738830341112368094632337476840272563704408573054404213766500407517251810212494515862176356916912627172280446141202661640191237336568731069327906100896178776245311689857997012187599140875912026589672629935267844696976980890380730867520071059572350667913710344648377601017758188404474812654737363275994871,\n",
    "    4881261656846638800623549662943393234361061827128610120046315649707078244180313661063004390750821317096754282796876479695558644108492317407662131441224257537276274962372021273583478509416358764706098471849536036184924640593888902859441388472856822541452041181244337124767666161645827145408781917658423571721,\n",
    "    18237936726367556664171427575475596460727369368246286138804284742124256700367133250078608537129877968287885457417957868580553371999414227484737603688992620953200143688061024092623556471053006464123205133894607923801371986027458274343737860395496260538663183193877539815179246700525865152165600985105257601565\n",
    "]\n",
    "\n",
    "# Function to compute Legendre symbol (a/p)\n",
    "def legendre_symbol(a, p):\n",
    "    return pow(a, (p - 1) // 2, p)\n",
    "\n",
    "# Find the quadratic residue\n",
    "quadratic_residue = None\n",
    "for a in ints:\n",
    "    if legendre_symbol(a, p) == 1:\n",
    "        quadratic_residue = a\n",
    "        break\n",
    "\n",
    "print(quadratic_residue)\n"
   ]
  },
  {
   "cell_type": "code",
   "execution_count": 16,
   "metadata": {},
   "outputs": [
    {
     "data": {
      "text/plain": [
       "1"
      ]
     },
     "execution_count": 16,
     "metadata": {},
     "output_type": "execute_result"
    }
   ],
   "source": [
    "legendre_symbol(quadratic_residue,p)"
   ]
  },
  {
   "cell_type": "code",
   "execution_count": 25,
   "metadata": {},
   "outputs": [
    {
     "data": {
      "text/plain": [
       "3"
      ]
     },
     "execution_count": 25,
     "metadata": {},
     "output_type": "execute_result"
    }
   ],
   "source": [
    "p%4\n",
    "#for using (p+1)/4 exponentiation if p is of the form 4k+1 for some natural number k"
   ]
  },
  {
   "cell_type": "code",
   "execution_count": 24,
   "metadata": {},
   "outputs": [
    {
     "name": "stdout",
     "output_type": "stream",
     "text": [
      "93291799125366706806545638475797430512104976066103610269938025709952247020061090804870186195285998727680200979853848718589126765742550855954805290253592144209552123062161458584575060939481368210688629862036958857604707468372384278049741369153506182660264876115428251983455344219194133033177700490981696141526\n",
      "root of the quadratic residue verified\n"
     ]
    }
   ],
   "source": [
    "# Compute the square root using (p+1)/4 exponentiation since p is of the form 4k+1 for some natural number k\n",
    "sqrt_residue = pow(quadratic_residue, (p + 1) // 4, p)\n",
    "\n",
    "# Since modular square roots have two solutions, we ensure we return the larger one\n",
    "larger_root = max(sqrt_residue, p - sqrt_residue)\n",
    "print(larger_root)\n",
    "\n",
    "\n",
    "if (larger_root**2)%p == quadratic_residue%p:\n",
    "    print(\"root of the quadratic residue verified\")\n"
   ]
  },
  {
   "cell_type": "markdown",
   "metadata": {},
   "source": [
    "__________________________________________________________________________________________\n",
    " *F15*\n",
    "\n",
    "\n",
    "\n",
    " "
   ]
  },
  {
   "cell_type": "markdown",
   "metadata": {},
   "source": [
    "In Legendre Symbol we introduced a fast way to determine whether a number is a square root modulo a prime. We can go further: there are algorithms for efficiently calculating such roots. The best one in practice is called Tonelli-Shanks, which gets its funny name from the fact that it was first described by an Italian in the 19th century and rediscovered independently by Daniel Shanks in the 1970s.\n",
    "\n",
    "All primes that aren't 2 are of the form $p \\equiv 1 \\mod 4$ or $p \\equiv 3 \\mod 4$, since all odd numbers obey these congruences. As the previous challenge hinted, in the $p \\equiv 3 \\mod 4$ case, a really simple formula for computing square roots can be derived directly from Fermat's little theorem. That leaves us still with the $p \\equiv 1 \\mod 4$ case, so a more general algorithm is required.\n",
    "\n",
    "In a congruence of the form $r^2 \\equiv a \\mod p$, Tonelli-Shanks calculates $r$.\n",
    "\n",
    "Tonelli-Shanks doesn't work for composite (non-prime) moduli. Finding square roots modulo composites is computationally equivalent to integer factorization - that is, it's a hard problem.\n",
    "\n",
    "\n",
    "The main use-case for this algorithm is finding elliptic curve coordinates. Its operation is somewhat complex so we're not going to discuss the details, however, implementations are easy to find and Sage has one built-in.\n",
    "\n",
    "Find the square root of $a$ modulo the 2048-bit prime $p$. Give the smaller of the two roots as your answer."
   ]
  },
  {
   "cell_type": "markdown",
   "metadata": {},
   "source": [
    "a = 8479994658316772151941616510097127087554541274812435112009425778595495359700244470400642403747058566807127814165396640215844192327900454116257979487432016769329970767046735091249898678088061634796559556704959846424131820416048436501387617211770124292793308079214153179977624440438616958575058361193975686620046439877308339989295604537867493683872778843921771307305602776398786978353866231661453376056771972069776398999013769588936194859344941268223184197231368887060609212875507518936172060702209557124430477137421847130682601666968691651447236917018634902407704797328509461854842432015009878011354022108661461024768\n",
    "p = 30531851861994333252675935111487950694414332763909083514133769861350960895076504687261369815735742549428789138300843082086550059082835141454526618160634109969195486322015775943030060449557090064811940139431735209185996454739163555910726493597222646855506445602953689527405362207926990442391705014604777038685880527537489845359101552442292804398472642356609304810680731556542002301547846635101455995732584071355903010856718680732337369128498655255277003643669031694516851390505923416710601212618443109844041514942401969629158975457079026906304328749039997262960301209158175920051890620947063936347307238412281568760161"
   ]
  },
  {
   "cell_type": "markdown",
   "metadata": {},
   "source": []
  },
  {
   "cell_type": "code",
   "execution_count": 26,
   "metadata": {},
   "outputs": [
    {
     "ename": "SyntaxError",
     "evalue": "invalid decimal literal (3746636715.py, line 2)",
     "output_type": "error",
     "traceback": [
      "\u001b[1;36m  Cell \u001b[1;32mIn[26], line 2\u001b[1;36m\u001b[0m\n\u001b[1;33m    10.ndigits()\u001b[0m\n\u001b[1;37m      ^\u001b[0m\n\u001b[1;31mSyntaxError\u001b[0m\u001b[1;31m:\u001b[0m invalid decimal literal\n"
     ]
    }
   ],
   "source": [
    "from sagemath.all import *\n",
    "10.ndigits()"
   ]
  },
  {
   "cell_type": "code",
   "execution_count": null,
   "metadata": {},
   "outputs": [],
   "source": []
  }
 ],
 "metadata": {
  "kernelspec": {
   "display_name": "base",
   "language": "python",
   "name": "python3"
  },
  "language_info": {
   "codemirror_mode": {
    "name": "ipython",
    "version": 3
   },
   "file_extension": ".py",
   "mimetype": "text/x-python",
   "name": "python",
   "nbconvert_exporter": "python",
   "pygments_lexer": "ipython3",
   "version": "3.11.5"
  }
 },
 "nbformat": 4,
 "nbformat_minor": 2
}
