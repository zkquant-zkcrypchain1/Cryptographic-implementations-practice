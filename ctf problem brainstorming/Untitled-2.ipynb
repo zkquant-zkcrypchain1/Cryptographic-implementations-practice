{
 "cells": [
  {
   "cell_type": "code",
   "execution_count": null,
   "metadata": {},
   "outputs": [
    {
     "name": "stdout",
     "output_type": "stream",
     "text": [
      "Requirement already satisfied: pycryptodome in c:\\users\\agnivo\\anaconda3\\lib\\site-packages (3.20.0)\n"
     ]
    }
   ],
   "source": [
    "!pip install pycryptodome"
   ]
  },
  {
   "cell_type": "markdown",
   "metadata": {},
   "source": [
    "*F1*\n",
    "\n",
    "\n",
    "Hexadecimal can be used in such a way to represent ASCII strings. First each letter is converted to an ordinal number according to the ASCII table (as in the previous challenge). Then the decimal numbers are converted to base-16 numbers, otherwise known as hexadecimal. The numbers can be combined together, into one long hex string.\n",
    "\n",
    "Included below is a flag encoded as a hex string. Decode this back into bytes to get the flag.\n",
    "```\n",
    "\n",
    "63727970746f7b596f755f77696c6c5f62655f776f726b696e675f776974\n",
    "685f6865785f737472696e67735f615f6c6f747d\n",
    "```"
   ]
  },
  {
   "cell_type": "code",
   "execution_count": 1,
   "metadata": {},
   "outputs": [
    {
     "name": "stdout",
     "output_type": "stream",
     "text": [
      "crypto{You_will_be_working_with_hex_strings_a_lot}\n",
      "crypto{You_will_be_working_with_hex_strings_a_lot}\n"
     ]
    }
   ],
   "source": [
    "# The hex string\n",
    "hex_string = \"63727970746f7b596f755f77696c6c5f62655f776f726b696e675f776974685f6865785f737472696e67735f615f6c6f747d\"\n",
    "\n",
    "# Method 1: Using bytes.fromhex()\n",
    "decoded = bytes.fromhex(hex_string).decode('ascii')\n",
    "print(decoded)\n",
    "\n",
    "# Method 2: Alternative way using int() and chr()\n",
    "decoded2 = \"\"\n",
    "for i in range(0, len(hex_string), 2):\n",
    "    hex_pair = hex_string[i:i+2]\n",
    "    decimal = int(hex_pair, 16)\n",
    "    decoded2 += chr(decimal)\n",
    "print(decoded2)\n"
   ]
  },
  {
   "cell_type": "markdown",
   "metadata": {},
   "source": [
    "_______________________________________________________________________________________\n",
    "\n",
    "*F2*\n",
    "\n",
    "\n",
    "Another common encoding scheme is Base64, which allows us to represent binary data as an ASCII string using an alphabet of 64 characters. One character of a Base64 string encodes 6 binary digits (bits), and so 4 characters of Base64 encode three 8-bit bytes.\n",
    "\n",
    "Base64 is most commonly used online, so binary data such as images can be easily included into HTML or CSS files.\n",
    "\n",
    "Take the below hex string, decode it into bytes and then encode it into Base64.\n",
    "\n",
    "```\n",
    "72bca9b68fc16ac7beeb8f849dca\n",
    "1d8a783e8acf9679bf9269f7bf\n",
    "```\n",
    "\n",
    " In Python, after importing the base64 module with import base64, you can use the base64.b64encode() function. Remember to decode the hex first as the challenge description states."
   ]
  },
  {
   "cell_type": "code",
   "execution_count": 2,
   "metadata": {},
   "outputs": [
    {
     "name": "stdout",
     "output_type": "stream",
     "text": [
      "crypto/Base+64+Encoding+is+Web+Safe/\n"
     ]
    }
   ],
   "source": [
    "import base64\n",
    "\n",
    "# The hex string\n",
    "hex_string = \"72bca9b68fc16ac7beeb8f849dca1d8a783e8acf9679bf9269f7bf\"\n",
    "\n",
    "# Step 1: Convert hex to bytes\n",
    "bytes_data = bytes.fromhex(hex_string)\n",
    "\n",
    "# Step 2: Encode bytes to Base64\n",
    "base64_encoded = base64.b64encode(bytes_data).decode()\n",
    "\n",
    "print(base64_encoded)\n"
   ]
  },
  {
   "cell_type": "markdown",
   "metadata": {},
   "source": [
    "_________________________________________________\n",
    "*F3*\n",
    "\n",
    "Cryptosystems like RSA works on numbers, but messages are made up of characters. How should we convert our messages into numbers so that mathematical operations can be applied?\n",
    "\n",
    "The most common way is to take the ordinal bytes of the message, convert them into hexadecimal, and concatenate. This can be interpreted as a base-16/hexadecimal number, and also represented in base-10/decimal.\n",
    "\n",
    "To illustrate:\n",
    "\n",
    "message: HELLO\n",
    "ascii bytes: [72, 69, 76, 76, 79]\n",
    "\n",
    "hex bytes: [0x48, 0x45, 0x4c, 0x4c, 0x4f]\n",
    "\n",
    "base-16: 0x48454c4c4f\n",
    "\n",
    "base-10: 310400273487\n",
    "\n",
    " Python's PyCryptodome library implements this with the methods bytes_to_long() and long_to_bytes(). You will first have to install PyCryptodome and import it with from Crypto.Util.number import \n",
    "\n",
    "\n",
    "Convert the following integer back into a message:\n",
    "```\n",
    "11515195063862318899931685488813747\n",
    "39577551628728968263649996528271463\n",
    "7259206269\n",
    "```"
   ]
  },
  {
   "cell_type": "code",
   "execution_count": 3,
   "metadata": {},
   "outputs": [
    {
     "name": "stdout",
     "output_type": "stream",
     "text": [
      "ASCII bytes: [72, 69, 76, 76, 79]\n",
      "Hex bytes: ['0x48', '0x45', '0x4c', '0x4c', '0x4f']\n",
      "Base-16: 0x48454c4c4f\n",
      "Base-10: 310400273487\n",
      "Back to text: HELLO\n"
     ]
    }
   ],
   "source": [
    "# Original message\n",
    "message = \"HELLO\"\n",
    "\n",
    "# Convert to ASCII bytes\n",
    "ascii_bytes = [ord(c) for c in message]\n",
    "print(f\"ASCII bytes: {ascii_bytes}\")\n",
    "\n",
    "# Convert to hex bytes\n",
    "hex_bytes = [hex(ord(c)) for c in message]\n",
    "print(f\"Hex bytes: {hex_bytes}\")\n",
    "\n",
    "# Create base-16 (hex) representation by concatenating\n",
    "hex_string = \"0x\" + \"\".join([hex(ord(c))[2:] for c in message])\n",
    "print(f\"Base-16: {hex_string}\")\n",
    "\n",
    "# Convert to base-10 (decimal)\n",
    "decimal = int(hex_string, 16)\n",
    "print(f\"Base-10: {decimal}\")\n",
    "\n",
    "# To convert back from decimal to text:\n",
    "def decimal_to_text(decimal_num):\n",
    "    hex_str = hex(decimal_num)[2:]  # Remove '0x' prefix\n",
    "    # Ensure even length\n",
    "    if len(hex_str) % 2 != 0:\n",
    "        hex_str = '0' + hex_str\n",
    "    # Convert back to bytes and then to string\n",
    "    return bytes.fromhex(hex_str).decode('ascii')\n",
    "\n",
    "# Test the conversion back\n",
    "original = decimal_to_text(decimal)\n",
    "print(f\"Back to text: {original}\")\n"
   ]
  },
  {
   "cell_type": "code",
   "execution_count": 5,
   "metadata": {},
   "outputs": [
    {
     "name": "stdout",
     "output_type": "stream",
     "text": [
      "Using PyCryptodome bytes_to_long(): 310400273487\n",
      "Recovered message: HELLO\n"
     ]
    }
   ],
   "source": [
    "from Crypto.Util.number import bytes_to_long, long_to_bytes\n",
    "\n",
    "# Original message\n",
    "message = \"HELLO\"\n",
    "\n",
    "# Method 1: Using PyCryptodome (easiest way)\n",
    "message_bytes = message.encode('ascii')\n",
    "number = bytes_to_long(message_bytes)\n",
    "print(f\"Using PyCryptodome bytes_to_long(): {number}\")\n",
    "\n",
    "# Converting back to text\n",
    "recovered = long_to_bytes(number).decode('ascii')\n",
    "print(f\"Recovered message: {recovered}\")\n",
    "\n"
   ]
  },
  {
   "cell_type": "code",
   "execution_count": 7,
   "metadata": {},
   "outputs": [
    {
     "name": "stdout",
     "output_type": "stream",
     "text": [
      "Using PyCryptodome: crypto{3nc0d1n6_4ll_7h3_w4y_d0wn}\n",
      "Using manual conversion: crypto{3nc0d1n6_4ll_7h3_w4y_d0wn}\n"
     ]
    }
   ],
   "source": [
    "from Crypto.Util.number import long_to_bytes\n",
    "\n",
    "# The given number\n",
    "number = 11515195063862318899931685488813747395775516287289682636499965282714637259206269\n",
    "\n",
    "# Method 1: Using PyCryptodome (easier way)\n",
    "message = long_to_bytes(number).decode()\n",
    "print(f\"Using PyCryptodome: {message}\")\n",
    "\n",
    "# Method 2: Manual conversion\n",
    "def decimal_to_text(decimal_num):\n",
    "    # Convert decimal to hex, remove '0x' prefix\n",
    "    hex_str = hex(decimal_num)[2:]\n",
    "    # Ensure even length\n",
    "    if len(hex_str) % 2 != 0:\n",
    "        hex_str = '0' + hex_str\n",
    "    # Convert hex to bytes and then to string\n",
    "    return bytes.fromhex(hex_str).decode('ascii')\n",
    "\n",
    "manual_message = decimal_to_text(number)\n",
    "print(f\"Using manual conversion: {manual_message}\")\n"
   ]
  },
  {
   "cell_type": "markdown",
   "metadata": {},
   "source": [
    "___________________________________________________________________\n",
    "*F4*\n",
    "\n",
    "\n",
    "\n",
    "XOR is a bitwise operator which returns 0 if the bits are the same, and 1 otherwise. In textbooks the XOR operator is denoted by $\\oplus$, but in most challenges and programming languages you will see the caret used instead.\n",
    "\n",
    "A\tB\tA $\\oplus$ B\n",
    "\n",
    "0\t0\t0\n",
    "\n",
    "0\t1\t1\n",
    "\n",
    "1\t0\t1\n",
    "\n",
    "1\t1\t0\n",
    "\n",
    "For longer binary numbers we XOR bit by bit: $0110 \\oplus 1010 = 1100$. We can XOR integers by first converting the integer from decimal to binary. We can XOR strings by first converting each character to the integer representing the Unicode character.\n",
    "\n",
    "Given the string label, XOR each character with the integer 13. Convert these integers back to a string and submit the flag as crypto\\{new\\_string\\}.\n",
    "\n",
    "The Python pwntools library has a convenient xor() function that can XOR together data of different types and lengths. But first, you may want to implement your own function to solve this."
   ]
  },
  {
   "cell_type": "code",
   "execution_count": 9,
   "metadata": {},
   "outputs": [
    {
     "name": "stdout",
     "output_type": "stream",
     "text": [
      "Original text: label\n",
      "XORed with 13: aloha\n",
      "Flag: crypto{aloha}\n",
      "XORing result again with 13: label\n"
     ]
    }
   ],
   "source": [
    "def xor_with_key(text, key):\n",
    "    \"\"\"\n",
    "    XOR each character in text with the given key value\n",
    "    Args:\n",
    "        text (str): Input text to XOR\n",
    "        key (int): Integer key to XOR with\n",
    "    Returns:\n",
    "        str: XORed result\n",
    "    \"\"\"\n",
    "    return ''.join(chr(ord(c) ^ key) for c in text)\n",
    "\n",
    "def make_flag(text):\n",
    "    return f\"crypto{{{text}}}\"\n",
    "\n",
    "# Solve the original problem (label XOR 13)\n",
    "original_text = \"label\"\n",
    "key = 13\n",
    "\n",
    "result = xor_with_key(original_text, key)\n",
    "flag = make_flag(result)\n",
    "\n",
    "print(f\"Original text: {original_text}\")\n",
    "print(f\"XORed with {key}: {result}\")\n",
    "print(f\"Flag: {flag}\")\n",
    "\n",
    "\n",
    "\n",
    "# Verify reversibility\n",
    "reversed_text = xor_with_key(result, key)\n",
    "print(f\"XORing result again with {key}: {reversed_text}\")\n"
   ]
  },
  {
   "cell_type": "code",
   "execution_count": 10,
   "metadata": {},
   "outputs": [
    {
     "name": "stdout",
     "output_type": "stream",
     "text": [
      "\n",
      "Step by step process:\n",
      "Character: l\n",
      "ASCII value: 108\n",
      "XORed with 13: 97\n",
      "New character: a\n",
      "\n",
      "Character: a\n",
      "ASCII value: 97\n",
      "XORed with 13: 108\n",
      "New character: l\n",
      "\n",
      "Character: b\n",
      "ASCII value: 98\n",
      "XORed with 13: 111\n",
      "New character: o\n",
      "\n",
      "Character: e\n",
      "ASCII value: 101\n",
      "XORed with 13: 104\n",
      "New character: h\n",
      "\n",
      "Character: l\n",
      "ASCII value: 108\n",
      "XORed with 13: 97\n",
      "New character: a\n",
      "\n"
     ]
    }
   ],
   "source": [
    "# Demonstrate the process\n",
    "print(\"\\nStep by step process:\")\n",
    "for char in original_text:\n",
    "    original_num = ord(char)\n",
    "    xored = original_num ^ key\n",
    "    new_char = chr(xored)\n",
    "    print(f\"Character: {char}\")\n",
    "    print(f\"ASCII value: {original_num}\")\n",
    "    print(f\"XORed with {key}: {xored}\")\n",
    "    print(f\"New character: {new_char}\")\n",
    "    print()"
   ]
  },
  {
   "cell_type": "code",
   "execution_count": 18,
   "metadata": {},
   "outputs": [
    {
     "name": "stdout",
     "output_type": "stream",
     "text": [
      "crypto{aloha}\n"
     ]
    }
   ],
   "source": [
    "# Install pwntools using pip\n",
    "#!pip install pwntools;\n",
    "\n",
    "from pwn import *\n",
    "\n",
    "text = \"label\"\n",
    "result = xor(text, 13)\n",
    "flag = f\"crypto{{{result.decode()}}}\"\n",
    "print(flag)\n"
   ]
  },
  {
   "cell_type": "markdown",
   "metadata": {},
   "source": [
    "___________________________________________________________________\n",
    "*F5*\n",
    "\n",
    "\n",
    "\n",
    "In the last challenge, you saw how XOR worked at the level of bits. In this one, we're going to cover the properties of the XOR operation and then use them to undo a chain of operations that have encrypted a flag. Gaining an intuition for how this works will help greatly when you come to attacking real cryptosystems later, especially in the block ciphers category.\n",
    "\n",
    "There are four main properties we should consider when we solve challenges using the XOR operator\n",
    "\n",
    "Commutative: $A \\oplus B = B \\oplus A$\n",
    "Associative: $A \\oplus (B \\oplus C) = (A \\oplus B) \\oplus C$\n",
    "Identity: $A \\oplus 0 = A$\n",
    "Self-Inverse: $A \\oplus A = 0$\n",
    "\n",
    "Let's break this down. Commutative means that the order of the XOR operations is not important. Associative means that a chain of operations can be carried out without order (we do not need to worry about brackets). The identity is 0, so XOR with 0 \"does nothing\", and lastly something XOR'd with itself returns zero.\n",
    "\n",
    "Let's put this into practice! Below is a series of outputs where three random keys have been XOR'd together and with the flag. Use the above properties to undo the encryption in the final line to obtain the flag.\n",
    "\n",
    "```\n",
    "KEY1 = a6c8b6733c9b22de7bc0253266a3867df55acde8635e19c73313\n",
    "KEY2 ^ KEY1 = 37dcb292030faa90d07eec17e3b1c6d8daf94c35d4c9191a5e1e\n",
    "KEY2 ^ KEY3 = c1545756687e7573db23aa1c3452a098b71a7fbf0fddddde5fc1\n",
    "FLAG ^ KEY1 ^ KEY3 ^ KEY2 = 04ee9855208a2cd59091d04767ae47963170d1660df7f56f5faf\n",
    "```\n",
    "\n",
    "Before you XOR these objects, be sure to decode from hex to bytes."
   ]
  },
  {
   "cell_type": "code",
   "execution_count": 23,
   "metadata": {},
   "outputs": [
    {
     "name": "stdout",
     "output_type": "stream",
     "text": [
      "crypto{x0r_i5_ass0c1at1v3}\n"
     ]
    }
   ],
   "source": [
    "from Crypto.Util.number import *\n",
    "\n",
    "\n",
    "# Convert hex strings to integers\n",
    "KEY1 = int('a6c8b6733c9b22de7bc0253266a3867df55acde8635e19c73313', 16)\n",
    "KEY2_XOR_KEY1 = int('37dcb292030faa90d07eec17e3b1c6d8daf94c35d4c9191a5e1e', 16)\n",
    "KEY2_XOR_KEY3 = int('c1545756687e7573db23aa1c3452a098b71a7fbf0fddddde5fc1', 16)\n",
    "FLAG_XOR_ALL = int('04ee9855208a2cd59091d04767ae47963170d1660df7f56f5faf', 16)\n",
    "\n",
    "# Using the properties:\n",
    "# 1. From KEY2 ^ KEY1 we can get KEY2 by XORing both sides with KEY1\n",
    "# 2. From KEY2 ^ KEY3 we can get KEY3 by XORing with KEY2\n",
    "# 3. Then we can solve for FLAG\n",
    "\n",
    "# Get KEY2 using KEY2 ^ KEY1\n",
    "KEY2 = KEY2_XOR_KEY1 ^ KEY1  \n",
    "\n",
    "# Get KEY3 using KEY2 ^ KEY3\n",
    "KEY3 = KEY2_XOR_KEY3 ^ KEY2\n",
    "\n",
    "# The encrypted flag is FLAG ^ KEY1 ^ KEY3 ^ KEY2\n",
    "# To get FLAG, XOR with the same keys again\n",
    "FLAG = FLAG_XOR_ALL ^ KEY1 ^ KEY3 ^ KEY2\n",
    "\n",
    "# Convert the result back to bytes and decode\n",
    "flag = long_to_bytes(FLAG)\n",
    "print(flag.decode())\n"
   ]
  },
  {
   "cell_type": "code",
   "execution_count": 26,
   "metadata": {},
   "outputs": [
    {
     "name": "stdout",
     "output_type": "stream",
     "text": [
      "b'crypto{x0r_i5_ass0c1at1v3}'\n"
     ]
    }
   ],
   "source": [
    "from pwn import xor\n",
    "k1=bytes.fromhex('a6c8b6733c9b22de7bc0253266a3867df55acde8635e19c73313')\n",
    "k2_3=bytes.fromhex('c1545756687e7573db23aa1c3452a098b71a7fbf0fddddde5fc1')\n",
    "flag=bytes.fromhex('04ee9855208a2cd59091d04767ae47963170d1660df7f56f5faf')\n",
    "print(xor(k1,k2_3,flag)) "
   ]
  },
  {
   "cell_type": "markdown",
   "metadata": {},
   "source": [
    "_______________________________________________________________\n",
    "\n",
    "*F6*\n",
    "\n",
    "I've hidden some data using XOR with a single byte, but that byte is a secret. Don't forget to decode from hex first.\n",
    "```\n",
    "73626960647f6b206821204f\n",
    "21254f7d694f762466206562\n",
    "2127234f726927756d\n",
    "```"
   ]
  },
  {
   "cell_type": "code",
   "execution_count": 27,
   "metadata": {},
   "outputs": [
    {
     "name": "stdout",
     "output_type": "stream",
     "text": [
      "Key 1: rchae~j!i !N $N|hNw%g!dc &\"Nsh&tl\n",
      "Key 3: pajcg|h#k\"#L\"&L~jLu'e#fa\"$ Lqj$vn\n",
      "Key 4: wfmd`{o$l%$K%!KymKr b$af%#'Kvm#qi\n",
      "Key 5: vgleazn%m$%J$ JxlJs!c%`g$\"&Jwl\"ph\n",
      "Key 6: udofbym&n'&I'#I{oIp\"`&cd'!%Ito!sk\n",
      "Key 7: tengcxl'o&'H&\"HznHq#a'be& $Hun rj\n",
      "Key 8: {jahlwc(`)(G)-GuaG~,n(mj)/+Gza/}e\n",
      "Key 11: xibkot`+c*+D*.DvbD}/m+ni*,(Dyb,~f\n",
      "Key 14: }lgnjqe.f/.A/+AsgAx*h.kl/)-A|g){c\n",
      "Key 15: |mfokpd/g./@.*@rf@y+i/jm.(,@}f(zb\n",
      "Key 16: crypto{0x10_15_my_f4v0ur173_by7e}\n",
      "Key 17: bsxqunz1y01^04^lx^g5w1ts062^cx6d|\n",
      "Key 19: `qzswlx3{23\\26\\nz\\e7u3vq240\\az4f~\n",
      "Key 21: fw|uqj~5}45Z40Zh|Zc1s5pw426Zg|2`x\n",
      "Key 24: kzqx|gs8p98W9=WeqWn<~8}z9?;Wjq?mu\n",
      "Key 28: o~u|xcw<t=<S=9SauSj8z<y~=;?Snu;iq\n",
      "Key 30: m|w~zau>v?>Q?;QcwQh:x>{|?9=Qlw9ks\n"
     ]
    }
   ],
   "source": [
    "def try_single_byte_xor(hex_string):\n",
    "    # Convert hex to bytes\n",
    "    ciphertext = bytes.fromhex(hex_string)\n",
    "    \n",
    "    # Try every possible byte value (0-255)\n",
    "    for key in range(256):\n",
    "        # XOR each byte with the key\n",
    "        result = ''\n",
    "        valid = True\n",
    "        \n",
    "        # Create the decoded text\n",
    "        decoded = ''.join(chr(b ^ key) for b in ciphertext)\n",
    "        \n",
    "        # Check if the result contains printable ASCII\n",
    "        if all(32 <= ord(c) <= 126 for c in decoded):\n",
    "            print(f\"Key {key}: {decoded}\")\n",
    "\n",
    "# The encrypted hex string\n",
    "hex_string = \"73626960647f6b206821204f21254f7d694f7624662065622127234f726927756d\"\n",
    "\n",
    "try_single_byte_xor(hex_string)\n"
   ]
  },
  {
   "cell_type": "markdown",
   "metadata": {},
   "source": [
    "```\n",
    "Key 16: crypto{0x10_15_my_f4v0ur173_by7e} is the answer\n",
    "```"
   ]
  },
  {
   "cell_type": "code",
   "execution_count": 29,
   "metadata": {},
   "outputs": [
    {
     "name": "stdout",
     "output_type": "stream",
     "text": [
      "Found flag: crypto{0x10_15_my_f4v0ur173_by7e}\n"
     ]
    }
   ],
   "source": [
    "from pwn import xor\n",
    "# Imports the xor function from the pwntools library, which makes XOR operations easy\n",
    "\n",
    "cipher = bytes.fromhex(\"73626960647f6b206821204f21254f7d694f7624662065622127234f726927756d\")\n",
    "# 1. Takes the hex string (the encrypted message)\n",
    "# 2. bytes.fromhex() converts the hex string into bytes for processing\n",
    "# For example: '73' becomes the byte value 0x73\n",
    "\n",
    "for i in range(256):\n",
    "    # Tries every possible single byte value (0-255)\n",
    "    # Since a byte can be any value from 0 to 255, we try each one\n",
    "    \n",
    "    result = xor(cipher, i).decode()\n",
    "    # 1. xor(cipher, i) - XORs each byte of the cipher with the value i\n",
    "    # 2. .decode() - converts the resulting bytes back to a readable string\n",
    "    \n",
    "    if result.startswith('crypto{'):\n",
    "        # Checks if the decoded result starts with 'crypto{'\n",
    "        # This is how we know we found the correct key\n",
    "        \n",
    "        print(f\"Found flag: {result}\")\n",
    "        # Prints the flag when found\n",
    "        \n",
    "        break\n",
    "        # Exits the loop once we find the correct result\n",
    "\n"
   ]
  },
  {
   "cell_type": "markdown",
   "metadata": {},
   "source": [
    "________________________________________________________________________________\n",
    "*F7*\n",
    "\n",
    "\n",
    "I've encrypted the flag with my secret key, you'll never be able to guess it.\n",
    "\n",
    "Remember the flag format and how it might help you in this challenge!\n",
    "\n",
    "```\n",
    "0e0b213f26041e48\n",
    "0b26217f27342e175\n",
    "d0e070a3c5b103e25\n",
    "26217f27342e175d0e\n",
    "077e263451150104\n",
    "```"
   ]
  },
  {
   "cell_type": "code",
   "execution_count": 34,
   "metadata": {},
   "outputs": [
    {
     "name": "stdout",
     "output_type": "stream",
     "text": [
      "Key found: myXORke\n"
     ]
    }
   ],
   "source": [
    "from pwn import xor\n",
    "\n",
    "# Convert hex to bytes\n",
    "cipher = bytes.fromhex('0e0b213f26041e480b26217f27342e175d0e070a3c5b103e2526217f27342e175d0e077e263451150104')\n",
    "\n",
    "# Known start of the flag\n",
    "known = b'crypto{'\n",
    "\n",
    "# Find the key by XORing the first 7 bytes with 'crypto{'\n",
    "key = xor(cipher[:7], known)\n",
    "print(f\"Key found: {key.decode()}\")\n",
    "\n",
    "# Try extending the key (it's probably repeating)\n",
    "key = key.decode()\n",
    "while len(key) < len(cipher):\n",
    "    key += key\n",
    "\n"
   ]
  },
  {
   "cell_type": "code",
   "execution_count": 31,
   "metadata": {},
   "outputs": [
    {
     "name": "stdout",
     "output_type": "stream",
     "text": [
      "Flag: crypto{1f_y0u_Kn0w_En0uGH_y0u_Kn0w_1t_4ll}VDsTC}\n"
     ]
    }
   ],
   "source": [
    "from pwn import xor\n",
    "\n",
    "cipher = bytes.fromhex('0e0b213f26041e480b26217f27342e175d0e070a3c5b103e2526217f27342e175d0e077e263451150104')\n",
    "key = b'myXORkey'  # We already know the key\n",
    "flag = xor(cipher, key * (len(cipher)//len(key) + 1))\n",
    "print(f\"Flag: {flag.decode()}\")\n"
   ]
  },
  {
   "cell_type": "markdown",
   "metadata": {},
   "source": [
    "____________________________________________________________________________________________\n",
    "*F8*\n",
    "\n",
    "calculate \n",
    "gcd\n",
    "⁡\n",
    "(\n",
    "a\n",
    ",\n",
    "b\n",
    ")\n",
    "gcd(a,b) for \n",
    "a=66528,\n",
    "b=52920\n",
    "and enter it below.\n"
   ]
  },
  {
   "cell_type": "code",
   "execution_count": 36,
   "metadata": {},
   "outputs": [
    {
     "name": "stdout",
     "output_type": "stream",
     "text": [
      "GCD of 12 and 8 is: 4\n",
      "GCD of 66528 and 52920 is: 1512\n"
     ]
    }
   ],
   "source": [
    "def gcd(a, b):\n",
    "    while b:\n",
    "        a, b = b, a % b\n",
    "    return a\n",
    "\n",
    "\n",
    "# Calculate the actual challenge\n",
    "a = 66528\n",
    "b = 52920\n",
    "result = gcd(a, b)\n",
    "print(f\"GCD of {a} and {b} is: {result}\")"
   ]
  },
  {
   "cell_type": "markdown",
   "metadata": {},
   "source": [
    "___________________________________________________________\n",
    "\n",
    "*F9*"
   ]
  },
  {
   "cell_type": "code",
   "execution_count": 38,
   "metadata": {},
   "outputs": [
    {
     "name": "stdout",
     "output_type": "stream",
     "text": [
      "GCD: 1\n",
      "u: 10245\n",
      "v: -8404\n",
      "Verification: 1\n",
      "Flag is the lower of u (10245) and v (-8404)\n"
     ]
    }
   ],
   "source": [
    "def extended_gcd(a, b):\n",
    "    if a == 0:\n",
    "        return b, 0, 1\n",
    "    else:\n",
    "        gcd, x, y = extended_gcd(b % a, a)\n",
    "        return gcd, y - (b//a) * x, x\n",
    "\n",
    "# The primes\n",
    "p = 26513\n",
    "q = 32321\n",
    "\n",
    "# Calculate GCD and coefficients\n",
    "gcd, u, v = extended_gcd(p, q)\n",
    "\n",
    "print(f\"GCD: {gcd}\")\n",
    "print(f\"u: {u}\")\n",
    "print(f\"v: {v}\")\n",
    "print(f\"Verification: {p*u + q*v}\")  # Should equal GCD\n",
    "print(f\"Flag is the lower of u ({u}) and v ({v})\")\n"
   ]
  },
  {
   "cell_type": "code",
   "execution_count": null,
   "metadata": {},
   "outputs": [],
   "source": []
  }
 ],
 "metadata": {
  "kernelspec": {
   "display_name": "base",
   "language": "python",
   "name": "python3"
  },
  "language_info": {
   "codemirror_mode": {
    "name": "ipython",
    "version": 3
   },
   "file_extension": ".py",
   "mimetype": "text/x-python",
   "name": "python",
   "nbconvert_exporter": "python",
   "pygments_lexer": "ipython3",
   "version": "3.11.5"
  }
 },
 "nbformat": 4,
 "nbformat_minor": 2
}
