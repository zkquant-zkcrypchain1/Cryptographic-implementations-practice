{
 "cells": [
  {
   "cell_type": "markdown",
   "metadata": {},
   "source": [
    "*RSA Application*"
   ]
  },
  {
   "cell_type": "code",
   "execution_count": 9,
   "metadata": {},
   "outputs": [],
   "source": [
    "from Crypto.Util.number import getPrime, bytes_to_long\n",
    "\n",
    "\n",
    "def generate_keys():\n",
    "    e = 0x10001    #public exponent e, we generally use this one by default\n",
    "    while True:\n",
    "        p = getPrime(512)\n",
    "        q = getPrime(512)\n",
    "        phi = (p - 1) * (q - 1)    #Euler's totient \n",
    "        d = pow(e, -1, phi)    #Private exponent d\n",
    "        if d != -1:\n",
    "            break\n",
    "\n",
    "    n = p * q\n",
    "    public_key = (n, e)\n",
    "    private_key = (n, d)\n",
    "    return public_key, private_key\n",
    "\n",
    "\n",
    "def encrypt(plaintext: int, public_key) -> int:\n",
    "    n, e = public_key\n",
    "    return pow(plaintext, e, n)    #plaintext ** e mod n\n",
    "\n",
    "\n",
    "def decrypt(ciphertext: int, private_key) -> int:\n",
    "    n, d = private_key\n",
    "    return pow(ciphertext, d, n)   #ciphertext ** d mod n\n",
    "\n",
    "\n",
    "message = bytes_to_long(b\"super_secret_message\")\n",
    "public_key, private_key = generate_keys()\n",
    "ciphertext = encrypt(message, public_key)\n",
    "plaintext = decrypt(ciphertext, private_key)"
   ]
  },
  {
   "cell_type": "markdown",
   "metadata": {},
   "source": [
    "Some attacks on RSA \n",
    "*   Weiner's Attack\n",
    "*   Boneh-Durfee Attack"
   ]
  },
  {
   "cell_type": "markdown",
   "metadata": {},
   "source": [
    "*Weiner's Attack*"
   ]
  },
  {
   "cell_type": "code",
   "execution_count": 17,
   "metadata": {},
   "outputs": [
    {
     "name": "stdout",
     "output_type": "stream",
     "text": [
      "crypto{ASCII_pr1nt4bl3}\n"
     ]
    }
   ],
   "source": [
    "ascii_values = [99, 114, 121, 112, 116, 111, 123, 65, 83, 67, 73, 73, 95, 112, 114, 49, 110, 116, 52, 98, 108, 51, 125]\n",
    "result = ''.join(map(chr, ascii_values))\n",
    "print(result)\n"
   ]
  }
 ],
 "metadata": {
  "kernelspec": {
   "display_name": "base",
   "language": "python",
   "name": "python3"
  },
  "language_info": {
   "codemirror_mode": {
    "name": "ipython",
    "version": 3
   },
   "file_extension": ".py",
   "mimetype": "text/x-python",
   "name": "python",
   "nbconvert_exporter": "python",
   "pygments_lexer": "ipython3",
   "version": "3.11.5"
  }
 },
 "nbformat": 4,
 "nbformat_minor": 2
}
